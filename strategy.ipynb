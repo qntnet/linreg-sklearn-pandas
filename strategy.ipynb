{
 "cells": [
  {
   "cell_type": "markdown",
   "metadata": {},
   "source": [
    "# Simple Linear Regression with pandas and sklearn"
   ]
  },
  {
   "cell_type": "code",
   "execution_count": null,
   "metadata": {
    "scrolled": true
   },
   "outputs": [],
   "source": [
    "import xarray as xr\n",
    "import pandas as pd\n",
    "import numpy as np\n",
    "\n",
    "from qnt.data import ds, load_assets, load_data, write_output, restore_origin_data, \\\n",
    "    from_xarray_3d_to_dict_of_pandas_df, filter_liquids_xarray_assets_dataarray, from_dict_to_xarray_1d, \\\n",
    "    check_weights_xarray_dataarray_for_nonliquids, exclude_weights_xarray_dataarray_from_nonliquids\n",
    "from qnt.stepper import test_strategy\n",
    "from qnt.stats import calc_stat, print_correlation\n",
    "from qnt.graph import make_plot, make_plot_double, make_plot_filled\n",
    "\n",
    "from sklearn.linear_model import LinearRegression"
   ]
  },
  {
   "cell_type": "markdown",
   "metadata": {},
   "source": [
    "# Data"
   ]
  },
  {
   "cell_type": "code",
   "execution_count": null,
   "metadata": {},
   "outputs": [],
   "source": [
    "loaded_desc_ordered_xarray_dataarray = load_data(min_date = \"2016-06-01\", max_date = \"2018-12-31\",\n",
    "                                                 dims=('time', 'field', 'asset'))\n",
    "loaded_desc_ordered_xarray_dataarray.coords"
   ]
  },
  {
   "cell_type": "markdown",
   "metadata": {},
   "source": [
    "# Model"
   ]
  },
  {
   "cell_type": "markdown",
   "metadata": {},
   "source": [
    "Let's check for first of k_days=250 prices items. We will normalize it on first price and will rate prices trands with the simpliest Linear Regression model."
   ]
  },
  {
   "cell_type": "markdown",
   "metadata": {},
   "source": [
    "If we'll see an increasing price trend, then we decide that:\n",
    "* the next n_days=50 days the price will increase\n",
    "* the weight for the next n_days=50 days will be equated to the tilt sign\n",
    "\n",
    "After n_days=50 days, let's review the previous k_days=250 days, build the regression again and update the weights."
   ]
  },
  {
   "cell_type": "code",
   "execution_count": null,
   "metadata": {
    "scrolled": false
   },
   "outputs": [],
   "source": [
    "k_days = 250\n",
    "X = np.arange(k_days)\n",
    "n_days = 50\n",
    "\n",
    "\n",
    "weights_dict = dict()\n",
    "\n",
    "# this function is optional, just for tests and to avoid forward-looking;\n",
    "# later it will be used together with test_strategy(...)\n",
    "def step(desc_ordered_assets_xarray_dataarray, debug=False):\n",
    "    global weights_dict\n",
    "    \n",
    "    filtered_assets_xarray_dataarray = filter_liquids_xarray_assets_dataarray(\n",
    "                                                        desc_ordered_assets_xarray_dataarray)\n",
    "\n",
    "    # convert to dict of pandas.DataFrame\n",
    "    filtered_assets_dict_of_pandas_df = from_xarray_3d_to_dict_of_pandas_df(filtered_assets_xarray_dataarray)\n",
    "    assets_list = list(filtered_assets_dict_of_pandas_df.keys())\n",
    "\n",
    "    # every n_days:\n",
    "    # get any key to check the days condition\n",
    "    an_asset = assets_list[0]\n",
    "    # check that every n_days condition isn't raised yet\n",
    "    if not debug and (filtered_assets_dict_of_pandas_df[an_asset].shape[0] - k_days-1) % n_days == 0:\n",
    "\n",
    "        # get xarray_dataarray representation\n",
    "        weights_xarray_dataarray = from_dict_to_xarray_1d(weights_dict)\n",
    "\n",
    "        # exclude all assets that became non-liquid since the last regression\n",
    "        liquid_weights_xarray_dataarray = \\\n",
    "            exclude_weights_xarray_dataarray_from_nonliquids(weights_xarray_dataarray,\n",
    "                                                             desc_ordered_assets_xarray_dataarray)\n",
    "\n",
    "        return liquid_weights_xarray_dataarray\n",
    "\n",
    "    # reset weights_dict\n",
    "    # to prevent global var to keep past assets that may became non-liquid\n",
    "    weights_dict = dict()\n",
    "\n",
    "    for asset in assets_list:\n",
    "\n",
    "        last_k_prices = filtered_assets_dict_of_pandas_df[asset][\"open\"].iloc[k_days-1::-1]\n",
    "        last_k_prices_forward_filled = last_k_prices\n",
    "        last_day_price = last_k_prices_forward_filled.iloc[-1:]  # AFAIK, [-1] doesn't work because of a bug in pandas\n",
    "\n",
    "        y_train = (last_k_prices / last_day_price.values[0]).fillna(0)\n",
    "        model = LinearRegression()\n",
    "\n",
    "        Xr = X.reshape(-1,1)\n",
    "        yr = y_train.values.reshape(-1, 1)\n",
    "\n",
    "        model.fit(Xr, yr)\n",
    "        weights_dict[asset] = np.sign(model.coef_[0][0])\n",
    "       \n",
    "    weights_xarray_dataarray = from_dict_to_xarray_1d(weights_dict)\n",
    "\n",
    "    # if weights_dict is empty there is no need to exclude\n",
    "    # weights_xarray_dataarray = \\\n",
    "    #     exclude_weights_xarray_dataarray_from_nonliquids(weights_xarray_dataarray,\n",
    "    #     desc_ordered_assets_xarray_dataarray)\n",
    "\n",
    "    # optional double check\n",
    "    check_weights_xarray_dataarray_for_nonliquids(weights_xarray_dataarray, desc_ordered_assets_xarray_dataarray)\n",
    "\n",
    "    return weights_xarray_dataarray"
   ]
  },
  {
   "cell_type": "markdown",
   "metadata": {},
   "source": [
    "## Test"
   ]
  },
  {
   "cell_type": "code",
   "execution_count": null,
   "metadata": {},
   "outputs": [],
   "source": [
    "debug_one_step_weights_xarray_dataarray = step(loaded_desc_ordered_xarray_dataarray, True)\n",
    "debug_one_step_weights_xarray_dataarray.to_pandas().tail()"
   ]
  },
  {
   "cell_type": "markdown",
   "metadata": {},
   "source": [
    "# Backtest"
   ]
  },
  {
   "cell_type": "code",
   "execution_count": null,
   "metadata": {},
   "outputs": [],
   "source": [
    "output = test_strategy(loaded_desc_ordered_xarray_dataarray, step=step, init_data_length=k_days)"
   ]
  },
  {
   "cell_type": "markdown",
   "metadata": {},
   "source": [
    "## Stats and plots"
   ]
  },
  {
   "cell_type": "code",
   "execution_count": null,
   "metadata": {},
   "outputs": [],
   "source": [
    "stat = calc_stat(loaded_desc_ordered_xarray_dataarray, output, slippage_factor=0.05)\n",
    "display(stat.to_pandas().tail())"
   ]
  },
  {
   "cell_type": "code",
   "execution_count": null,
   "metadata": {},
   "outputs": [],
   "source": [
    "make_plot_filled(stat.coords['time'].to_pandas(), stat.loc[:, 'equity'].values,  color=\"blue\", name=\"PnL (Equity)\", type=\"log\")"
   ]
  },
  {
   "cell_type": "code",
   "execution_count": null,
   "metadata": {},
   "outputs": [],
   "source": [
    "make_plot_filled(stat.coords['time'].to_pandas(), stat.loc[:, 'underwater'].values, color=\"red\", name=\"Underwater Chart\", range_max= 0)"
   ]
  },
  {
   "cell_type": "code",
   "execution_count": null,
   "metadata": {},
   "outputs": [],
   "source": [
    "make_plot_filled(stat.coords['time'].to_pandas(), stat.loc[:, 'sharpe_ratio'].values[20:], color=\"purple\", name=\"Rolling SR\")"
   ]
  },
  {
   "cell_type": "code",
   "execution_count": null,
   "metadata": {},
   "outputs": [],
   "source": [
    "make_plot_filled(stat.coords['time'].to_pandas(), stat.loc[:, 'bias'].values, color=\"gray\", name=\"Bias\")"
   ]
  },
  {
   "cell_type": "code",
   "execution_count": null,
   "metadata": {},
   "outputs": [],
   "source": [
    "print_correlation(output, loaded_desc_ordered_xarray_dataarray)"
   ]
  },
  {
   "cell_type": "markdown",
   "metadata": {},
   "source": [
    "## Submit"
   ]
  },
  {
   "cell_type": "code",
   "execution_count": null,
   "metadata": {},
   "outputs": [],
   "source": [
    "write_output(output)"
   ]
  }
 ],
 "metadata": {
  "kernelspec": {
   "display_name": "Python 3",
   "language": "python",
   "name": "python3"
  },
  "language_info": {
   "codemirror_mode": {
    "name": "ipython",
    "version": 3
   },
   "file_extension": ".py",
   "mimetype": "text/x-python",
   "name": "python",
   "nbconvert_exporter": "python",
   "pygments_lexer": "ipython3",
   "version": "3.7.3"
  }
 },
 "nbformat": 4,
 "nbformat_minor": 2
}
